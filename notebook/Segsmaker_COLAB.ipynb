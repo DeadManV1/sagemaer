{
  "cells": [
    {
      "cell_type": "markdown",
      "metadata": {
        "id": "COlOWoTOMKSP"
      },
      "source": [
        "<a href=\"https://github.com/gutris1/segsmaker\">\n",
        "  <img alt=\"GitHub repo\" src=\"https://img.shields.io/badge/GitHub-6e5494?style=for-the-badge&logo=github&logoColor=white\"/>\n",
        "</a><br>\n",
        "\n",
        "*   get your civitai api key from [here](https://civitai.com/user/account)"
      ]
    },
    {
      "cell_type": "code",
      "execution_count": 1,
      "metadata": {
        "id": "tQqllRM-MCnT",
        "outputId": "34ee8524-d1d6-4097-adb4-26856a78c739",
        "colab": {
          "base_uri": "https://localhost:8080/",
          "height": 850,
          "referenced_widgets": [
            "cab7d186e62742af80f33938060b959c",
            "a5068271c44f442b91adea18ff3cd6c5",
            "a882636f279e49ad97b4c72645e110e8",
            "df6830c0b07d4c539eb05e05f2503f0d"
          ]
        }
      },
      "outputs": [
        {
          "output_type": "display_data",
          "data": {
            "text/plain": [
              "Output()"
            ],
            "application/vnd.jupyter.widget-view+json": {
              "version_major": 2,
              "version_minor": 0,
              "model_id": "cab7d186e62742af80f33938060b959c"
            }
          },
          "metadata": {}
        },
        {
          "output_type": "display_data",
          "data": {
            "text/plain": [
              "Output()"
            ],
            "application/vnd.jupyter.widget-view+json": {
              "version_major": 2,
              "version_minor": 0,
              "model_id": "a882636f279e49ad97b4c72645e110e8"
            }
          },
          "metadata": {}
        }
      ],
      "source": [
        "# @title <b><font color='orange'>WebUI Installer</font></b> {\"display-mode\":\"form\"}\n",
        "\n",
        "Webui = 'A1111' # @param [\"A1111\", \"Forge\", \"ReForge\", \"Forge-Classic\", \"ComfyUI\", \"SwarmUI\"]\n",
        "Civitai___Key = '580f18452106bedb1b4c92fb67d3b825' # @param { type: \"string\", placeholder: \"Your Civitai API Key (required)\" }\n",
        "HF_Read_Token = '' # @param { type: \"string\", placeholder: \"Your Huggingface READ Token (optional)\" }\n",
        "Mount__GDrive = 'No' # @param [\"Yes\", \"No\"]\n",
        "\n",
        "if Mount__GDrive == 'Yes':\n",
        "    from google.colab import drive\n",
        "    drive.mount('/content/drive')\n",
        "\n",
        "!curl -sLo /content/setup.py https://github.com/gutris1/segsmaker/raw/main/script/KC/setup.py\n",
        "%run /content/setup.py --webui=\"$Webui\" --civitai_key=\"$Civitai___Key\" --hf_read_token=\"$HF_Read_Token\"\n",
        "\n",
        "if Mount__GDrive == 'Yes':\n",
        "    from pathlib import Path\n",
        "\n",
        "    d = Path('/content/drive/MyDrive/Segsmaker')\n",
        "\n",
        "    for n, p in {'checkpoint': CKPT, 'lora': LORA, 'vae': VAE, 'embeddings': Embeddings}.items():\n",
        "        f = d / n\n",
        "        f.mkdir(parents=True, exist_ok=True)\n",
        "        s = p / f'drive-{n}'\n",
        "        s.symlink_to(f, target_is_directory=True)\n",
        "\n",
        "    !rm -rf $WebUI_Output\n",
        "    o = d / {'ComfyUI': 'comfyui-output', 'SwarmUI': 'swarmui-output'}.get(Webui, 'output')\n",
        "    o.mkdir(parents=True, exist_ok=True)\n",
        "    WebUI_Output.symlink_to(o, target_is_directory=True)"
      ]
    },
    {
      "cell_type": "code",
      "execution_count": null,
      "metadata": {
        "id": "9TeZZ9WrOsxS"
      },
      "outputs": [],
      "source": [
        "''' These are placeholders for commands with empty inputs. '''\n",
        "''' Replace them with actual values or skip/delete this cell. '''\n",
        "\n",
        "\n",
        "''' SD Extensions / ComfyUI Custom Nodes '''\n",
        "%cd -q $Extensions\n",
        "!git clone\n",
        "\n",
        "''' VAE '''\n",
        "%cd -q $VAE\n",
        "%download\n",
        "\n",
        "''' Embeddings '''\n",
        "%cd -q $Embeddings\n",
        "%download\n",
        "\n",
        "''' Upscalers '''\n",
        "%cd -q $Upscalers\n",
        "%download\n",
        "\n",
        "''' FLUX Unet '''\n",
        "%cd -q $UNET\n",
        "%download\n",
        "\n",
        "''' FLUX Clip '''\n",
        "%cd -q $CLIP\n",
        "%download"
      ]
    },
    {
      "cell_type": "code",
      "execution_count": 5,
      "metadata": {
        "id": "CuR9tiSnPRBM",
        "outputId": "ca5f21c9-86e6-4f50-dcec-80886c27b753",
        "colab": {
          "base_uri": "https://localhost:8080/"
        }
      },
      "outputs": [
        {
          "output_type": "stream",
          "name": "stdout",
          "text": [
            " \u001b[35m【\u001b[0m\u001b[36m#\u001b[0m\u001b[38;5;35m1175f2\u001b[0m 6.4\u001b[38;5;135mGiB\u001b[0m\u001b[35m/\u001b[0m6.4\u001b[38;5;135mGiB\u001b[0m\u001b[35m(\u001b[0m99%\u001b[35m)\u001b[0m \u001b[36mCN\u001b[0m:\u001b[38;5;208m2\u001b[0m \u001b[36mDL\u001b[0m:104\u001b[38;5;135mMiB\u001b[0m\u001b[35m】\u001b[0m\n",
            "  1175f2|\u001b[38;5;35mOK\u001b[0m  |   124MiB/s|\u001b[38;5;208m/\u001b[0mcontent\u001b[38;5;208m/\u001b[0mA1111\u001b[38;5;208m/\u001b[0mmodels\u001b[38;5;208m/\u001b[0mStable-diffusion\u001b[38;5;208m/\u001b[0mntrMIXIllustriousXL_v40.safetensors\n",
            "  32a0cf|\u001b[38;5;35mOK\u001b[0m  |       0B/s|\u001b[38;5;208m/\u001b[0mcontent\u001b[38;5;208m/\u001b[0mA1111\u001b[38;5;208m/\u001b[0mmodels\u001b[38;5;208m/\u001b[0mLora\u001b[38;5;208m/\u001b[0madd-detail-xl.safetensors\n",
            "  db2d06|\u001b[38;5;35mOK\u001b[0m  |       0B/s|\u001b[38;5;208m/\u001b[0mcontent\u001b[38;5;208m/\u001b[0mA1111\u001b[38;5;208m/\u001b[0mmodels\u001b[38;5;208m/\u001b[0mLora\u001b[38;5;208m/\u001b[0mdetails-add-more-pony.safetensors\n"
          ]
        }
      ],
      "source": [
        "''' Checkpoint '''\n",
        "%cd -q $CKPT\n",
        "%download https://civitai.com/api/download/models/1061268\n",
        "\n",
        "\n",
        "''' LoRA '''\n",
        "%cd -q $LORA\n",
        "%download https://civitai.com/models/122359/detail-tweaker-xl\n",
        "%download https://civitai.com/models/669571/pony-add-more-details details-add-more-pony.safetensors"
      ]
    },
    {
      "cell_type": "code",
      "execution_count": null,
      "metadata": {
        "id": "wO4OTCOWALEc"
      },
      "outputs": [],
      "source": [
        "''' Controlnet '''\n",
        "%run $Controlnet_Widget"
      ]
    },
    {
      "cell_type": "markdown",
      "metadata": {
        "id": "BB8pCZnrQnR9"
      },
      "source": [
        "## Launcher\n",
        "args list :\n",
        "-  **A1111** = `--xformers`\n",
        "- **Forge** = `--disable-xformers --opt-sdp-attention --cuda-stream --pin-shared-memory`\n",
        "- **ReForge** = `--xformers --cuda-stream --pin-shared-memory`\n",
        "- **Forge-Classic** = `--xformers --cuda-stream --pin-shared-memory --persistent-patches`\n",
        "- **ComfyUI** = `--dont-print-server --use-pytorch-cross-attention`\n",
        "- **SwarmUI** = `--launch_mode none`\n",
        "<br><br>\n",
        "\n",
        "For ComfyUI, add `--skip-comfyui-check` to skip checking the main requirements and custom node dependencies\n",
        "\n",
        "Add **--N=ngrok_token** to start NGROK tunnel<br>\n",
        "Add **--Z=zrok_token** to start ZROK tunnel"
      ]
    },
    {
      "cell_type": "code",
      "execution_count": 7,
      "metadata": {
        "id": "ps7AEUdGX2iE",
        "outputId": "bd34dc31-2b34-40b1-d2af-b94d6701adc2",
        "colab": {
          "base_uri": "https://localhost:8080/"
        }
      },
      "outputs": [
        {
          "output_type": "stream",
          "name": "stdout",
          "text": [
            "Python 3.10.15 (main, Oct 16 2024, 04:37:23) [Clang 18.1.8 ]\n",
            "Version: v1.10.1\n",
            "Commit hash: 82a973c04367123ae98bd9abdf80d9eda9b910e2\n",
            "Installing None\n",
            "Launching Web UI with arguments: --xformers --enable-insecure-extension-access --disable-console-progressbars --theme dark\n",
            "\u001b[1m[\u001b[0m-\u001b[1m]\u001b[0m ADetailer initialized. version: \u001b[1;36m25.3\u001b[0m.\u001b[1;36m0\u001b[0m, num models: \u001b[1;36m10\u001b[0m\n",
            "Tag Autocomplete: Could not locate model-keyword extension, Lora trigger word completion will be limited to those added through the extra networks menu.\n",
            "\u001b[38;5;208m▶\u001b[0m \u001b[36mCivitAI Browser++\u001b[0m: Aria2 RPC started\n",
            "\u001b[38;5;208m▶\u001b[0m SD-Hub: \u001b[38;5;39mv10.3\u001b[0m\n",
            "ControlNet preprocessor location: /content/A1111/extensions/sd-webui-controlnet/annotator/downloads\n",
            "2025-06-21 12:05:11,792 - ControlNet - \u001b[0;32mINFO\u001b[0m - ControlNet v1.1.455\n",
            "Loading weights [3bc9e8fbe6] from /content/A1111/models/Stable-diffusion/ntrMIXIllustriousXL_v40.safetensors\n",
            "2025-06-21 12:05:13,448 - ControlNet - \u001b[0;32mINFO\u001b[0m - ControlNet UI callback registered.\n",
            "Creating model from config: /content/A1111/repositories/generative-models/configs/inference/sd_xl_base.yaml\n",
            "[ERROR]: Config states /content/A1111/config_states/civitai_subfolders.json, \"created_at\" does not exist\n",
            "Running on local URL:  http://127.0.0.1:7860\n",
            "\n",
            "To create a public link, set `share=True` in `launch()`.\n",
            "\u001b[92mIIB Database file has been successfully backed up to the backup folder.\u001b[0m\n",
            "Startup time: 44.7s (prepare environment: 22.6s, import torch: 7.0s, import gradio: 2.4s, setup paths: 1.4s, initialize shared: 0.2s, other imports: 0.5s, load scripts: 3.8s, create ui: 4.3s, gradio launch: 1.2s, app_started_callback: 1.2s).\n",
            "\n",
            "🟢 Gradio \u001b[38;5;208m:\u001b[0m https://95e9aa277d8dbc50db.gradio.live\n",
            "\n",
            "🟢 Pinggy \u001b[38;5;208m:\u001b[0m https://rnufo-34-125-139-67.a.free.pinggy.link\n",
            "\n",
            "🟢 Cloudflared \u001b[38;5;208m:\u001b[0m http://issn-thousands-pda-prediction.trycloudflare.com \n",
            "\n",
            "Applying attention optimization: xformers... done.\n",
            "Model loaded in 28.3s (load weights from disk: 3.0s, create model: 2.4s, apply weights to model: 21.2s, apply half(): 0.2s, move model to device: 0.1s, load textual inversion embeddings: 0.5s, calculate empty prompt: 0.9s).\n",
            " 60% 9/15 [00:09<00:06,  1.04s/it]\n",
            "100% 15/15 [00:14<00:00,  1.04it/s]\n",
            "100% 11/11 [00:10<00:00,  1.02it/s]\n",
            "Interrupted with signal 2 in <frame at 0x5a9af9db9090, file '/GUTRIS1/lib/python3.10/threading.py', line 324, code wait>\n",
            "\n",
            "Gradio, Pinggy, Cloudflared Died.\n"
          ]
        }
      ],
      "source": [
        "%cd -q $WebUI\n",
        "%run segsmaker.py --xformers"
      ]
    }
  ],
  "metadata": {
    "accelerator": "GPU",
    "colab": {
      "gpuType": "T4",
      "provenance": []
    },
    "kernelspec": {
      "display_name": "Python 3",
      "name": "python3"
    },
    "language_info": {
      "name": "python"
    },
    "widgets": {
      "application/vnd.jupyter.widget-state+json": {
        "cab7d186e62742af80f33938060b959c": {
          "model_module": "@jupyter-widgets/output",
          "model_name": "OutputModel",
          "model_module_version": "1.0.0",
          "state": {
            "_dom_classes": [],
            "_model_module": "@jupyter-widgets/output",
            "_model_module_version": "1.0.0",
            "_model_name": "OutputModel",
            "_view_count": null,
            "_view_module": "@jupyter-widgets/output",
            "_view_module_version": "1.0.0",
            "_view_name": "OutputView",
            "layout": "IPY_MODEL_a5068271c44f442b91adea18ff3cd6c5",
            "msg_id": "",
            "outputs": [
              {
                "output_type": "display_data",
                "data": {
                  "text/plain": "<IPython.core.display.HTML object>",
                  "text/html": "<span style='color:red;'><b>【</span> <span style='color:d;'>Installing A1111</span> <span style='color:red;'>】</span> <span></b></span>"
                },
                "metadata": {}
              },
              {
                "output_type": "stream",
                "name": "stdout",
                "text": [
                  "  A1111 ▶ https://github.com/AUTOMATIC1111/stable-diffusion-webui\n"
                ]
              },
              {
                "output_type": "stream",
                "name": "stdout",
                "text": [
                  "\n",
                  "  pull : a1111 \n",
                  "  from : https://github.com/gutris1/segsmaker \n",
                  "  into : /content/A1111\n"
                ]
              },
              {
                "output_type": "stream",
                "name": "stdout",
                "text": [
                  "  b501fc|\u001b[38;5;35mOK\u001b[0m  |   2.5MiB/s|\u001b[38;5;208m/\u001b[0mcontent\u001b[38;5;208m/\u001b[0mA1111\u001b[38;5;208m/\u001b[0masd\u001b[38;5;208m/\u001b[0mcontrolnet.py\n"
                ]
              },
              {
                "output_type": "stream",
                "name": "stdout",
                "text": [
                  "  4e8030|\u001b[38;5;35mOK\u001b[0m  |   762KiB/s|\u001b[38;5;208m/\u001b[0mcontent\u001b[38;5;208m/\u001b[0mA1111\u001b[38;5;208m/\u001b[0msegsmaker.py\n"
                ]
              },
              {
                "output_type": "stream",
                "name": "stdout",
                "text": [
                  "  703b94|\u001b[38;5;35mOK\u001b[0m  |   201MiB/s|\u001b[38;5;208m/\u001b[0mcontent\u001b[38;5;208m/\u001b[0mA1111\u001b[38;5;208m/\u001b[0mmodels\u001b[38;5;208m/\u001b[0mESRGAN\u001b[38;5;208m/\u001b[0m4x-UltraSharp.pth\n"
                ]
              },
              {
                "output_type": "stream",
                "name": "stdout",
                "text": [
                  "  fd1ea4|\u001b[38;5;35mOK\u001b[0m  |   156MiB/s|\u001b[38;5;208m/\u001b[0mcontent\u001b[38;5;208m/\u001b[0mA1111\u001b[38;5;208m/\u001b[0mmodels\u001b[38;5;208m/\u001b[0mESRGAN\u001b[38;5;208m/\u001b[0m4x-AnimeSharp.pth\n"
                ]
              },
              {
                "output_type": "stream",
                "name": "stdout",
                "text": [
                  "  5b2b18|\u001b[38;5;35mOK\u001b[0m  |   182MiB/s|\u001b[38;5;208m/\u001b[0mcontent\u001b[38;5;208m/\u001b[0mA1111\u001b[38;5;208m/\u001b[0mmodels\u001b[38;5;208m/\u001b[0mESRGAN\u001b[38;5;208m/\u001b[0m4x_NMKD-Superscale-SP_178000_G.pth\n"
                ]
              },
              {
                "output_type": "stream",
                "name": "stdout",
                "text": [
                  "  aefce5|\u001b[38;5;35mOK\u001b[0m  |   193MiB/s|\u001b[38;5;208m/\u001b[0mcontent\u001b[38;5;208m/\u001b[0mA1111\u001b[38;5;208m/\u001b[0mmodels\u001b[38;5;208m/\u001b[0mESRGAN\u001b[38;5;208m/\u001b[0m8x_NMKD-Superscale_150000_G.pth\n"
                ]
              },
              {
                "output_type": "stream",
                "name": "stdout",
                "text": [
                  "  862d03|\u001b[38;5;35mOK\u001b[0m  |   215MiB/s|\u001b[38;5;208m/\u001b[0mcontent\u001b[38;5;208m/\u001b[0mA1111\u001b[38;5;208m/\u001b[0mmodels\u001b[38;5;208m/\u001b[0mESRGAN\u001b[38;5;208m/\u001b[0m4x_RealisticRescaler_100000_G.pth\n"
                ]
              },
              {
                "output_type": "stream",
                "name": "stdout",
                "text": [
                  "  463945|\u001b[38;5;35mOK\u001b[0m  |   183MiB/s|\u001b[38;5;208m/\u001b[0mcontent\u001b[38;5;208m/\u001b[0mA1111\u001b[38;5;208m/\u001b[0mmodels\u001b[38;5;208m/\u001b[0mESRGAN\u001b[38;5;208m/\u001b[0m8x_RealESRGAN.pth\n"
                ]
              },
              {
                "output_type": "stream",
                "name": "stdout",
                "text": [
                  "  7cee2c|\u001b[38;5;35mOK\u001b[0m  |   184MiB/s|\u001b[38;5;208m/\u001b[0mcontent\u001b[38;5;208m/\u001b[0mA1111\u001b[38;5;208m/\u001b[0mmodels\u001b[38;5;208m/\u001b[0mESRGAN\u001b[38;5;208m/\u001b[0m4x_foolhardy_Remacri.pth\n"
                ]
              },
              {
                "output_type": "stream",
                "name": "stdout",
                "text": [
                  "  01133d|\u001b[38;5;35mOK\u001b[0m  |   180MiB/s|\u001b[38;5;208m/\u001b[0mcontent\u001b[38;5;208m/\u001b[0mA1111\u001b[38;5;208m/\u001b[0mmodels\u001b[38;5;208m/\u001b[0mESRGAN\u001b[38;5;208m/\u001b[0m4x_NMKD-YandereNeoXL_200k.pth\n"
                ]
              },
              {
                "output_type": "stream",
                "name": "stdout",
                "text": [
                  "  6b8e9b|\u001b[38;5;35mOK\u001b[0m  |   204MiB/s|\u001b[38;5;208m/\u001b[0mcontent\u001b[38;5;208m/\u001b[0mA1111\u001b[38;5;208m/\u001b[0mmodels\u001b[38;5;208m/\u001b[0mESRGAN\u001b[38;5;208m/\u001b[0m4x_NMKD-UltraYandere_300k.pth\n"
                ]
              },
              {
                "output_type": "stream",
                "name": "stdout",
                "text": [
                  "  7c8b11|\u001b[38;5;35mOK\u001b[0m  |   7.6MiB/s|\u001b[38;5;208m/\u001b[0mcontent\u001b[38;5;208m/\u001b[0mA1111\u001b[38;5;208m/\u001b[0mhtml\u001b[38;5;208m/\u001b[0mcard-no-preview.png\n"
                ]
              },
              {
                "output_type": "stream",
                "name": "stdout",
                "text": [
                  "  fffb41|\u001b[38;5;35mOK\u001b[0m  |   1.6MiB/s|\u001b[38;5;208m/\u001b[0mcontent\u001b[38;5;208m/\u001b[0mA1111\u001b[38;5;208m/\u001b[0mtmp\u001b[38;5;208m/\u001b[0mgradio_themes\u001b[38;5;208m/\u001b[0mNoCrypt_miku.json\n"
                ]
              },
              {
                "output_type": "stream",
                "name": "stdout",
                "text": [
                  "  ac392d|\u001b[38;5;35mOK\u001b[0m  |    71MiB/s|\u001b[38;5;208m/\u001b[0mcontent\u001b[38;5;208m/\u001b[0mA1111\u001b[38;5;208m/\u001b[0membeddings.zip\n"
                ]
              },
              {
                "output_type": "stream",
                "name": "stdout",
                "text": [
                  "\r                                                                                                                                                                                                                                                                                                            \r \u001b[35m【\u001b[0m\u001b[36m#\u001b[0m\u001b[38;5;35m9a75a4\u001b[0m 204\u001b[38;5;135mMiB\u001b[0m\u001b[35m/\u001b[0m319\u001b[38;5;135mMiB\u001b[0m\u001b[35m(\u001b[0m64%\u001b[35m)\u001b[0m \u001b[36mCN\u001b[0m:\u001b[38;5;208m16\u001b[0m \u001b[36mDL\u001b[0m:242\u001b[38;5;135mMiB\u001b[0m\u001b[35m】\u001b[0m"
                ]
              },
              {
                "output_type": "stream",
                "name": "stdout",
                "text": [
                  "\n",
                  "  9a75a4|\u001b[38;5;35mOK\u001b[0m  |   243MiB/s|\u001b[38;5;208m/\u001b[0mcontent\u001b[38;5;208m/\u001b[0mA1111\u001b[38;5;208m/\u001b[0mmodels\u001b[38;5;208m/\u001b[0mVAE\u001b[38;5;208m/\u001b[0mvae-ft-mse-840000-ema-pruned.safetensors\n"
                ]
              },
              {
                "output_type": "stream",
                "name": "stdout",
                "text": [
                  "  88bcbe|\u001b[38;5;35mOK\u001b[0m  |   7.2MiB/s|\u001b[38;5;208m/\u001b[0mcontent\u001b[38;5;208m/\u001b[0mA1111\u001b[38;5;208m/\u001b[0membeddingsXL.zip\n"
                ]
              },
              {
                "output_type": "stream",
                "name": "stdout",
                "text": [
                  "\r                                                                                                                                                                                                                                                                                                            \r \u001b[35m【\u001b[0m\u001b[36m#\u001b[0m\u001b[38;5;35m00d764\u001b[0m 206\u001b[38;5;135mMiB\u001b[0m\u001b[35m/\u001b[0m319\u001b[38;5;135mMiB\u001b[0m\u001b[35m(\u001b[0m64%\u001b[35m)\u001b[0m \u001b[36mCN\u001b[0m:\u001b[38;5;208m16\u001b[0m \u001b[36mDL\u001b[0m:243\u001b[38;5;135mMiB\u001b[0m\u001b[35m】\u001b[0m"
                ]
              },
              {
                "output_type": "stream",
                "name": "stdout",
                "text": [
                  "\n",
                  "  00d764|\u001b[38;5;35mOK\u001b[0m  |   243MiB/s|\u001b[38;5;208m/\u001b[0mcontent\u001b[38;5;208m/\u001b[0mA1111\u001b[38;5;208m/\u001b[0mmodels\u001b[38;5;208m/\u001b[0mVAE\u001b[38;5;208m/\u001b[0msdxl_vae.safetensors\n"
                ]
              },
              {
                "output_type": "display_data",
                "data": {
                  "text/plain": "<IPython.core.display.HTML object>",
                  "text/html": "<span style='color:red;'><br><b>【</span> <span style='color:d;'>Installing Extensions</span> <span style='color:red;'>】</span> <span></b></span>"
                },
                "metadata": {}
              },
              {
                "output_type": "stream",
                "name": "stdout",
                "text": [
                  "  1-sd-dynamic-thresholding ▶ https://github.com/mcmonkeyprojects/sd-dynamic-thresholding\n"
                ]
              },
              {
                "output_type": "stream",
                "name": "stdout",
                "text": [
                  "  3-bmab ▶ https://github.com/gutris1/sd-webui-bmab\n"
                ]
              },
              {
                "output_type": "stream",
                "name": "stdout",
                "text": [
                  "  4-adetailer ▶ https://github.com/Bing-su/adetailer\n"
                ]
              },
              {
                "output_type": "stream",
                "name": "stdout",
                "text": [
                  "  sd-webui-supermerger ▶ https://github.com/hako-mikan/sd-webui-supermerger\n"
                ]
              },
              {
                "output_type": "stream",
                "name": "stdout",
                "text": [
                  "  sd-webui-infinite-image-browsing ▶ https://github.com/zanllp/sd-webui-infinite-image-browsing\n"
                ]
              },
              {
                "output_type": "stream",
                "name": "stdout",
                "text": [
                  "  a1111-sd-webui-tagcomplete ▶ https://github.com/DominikDoom/a1111-sd-webui-tagcomplete\n"
                ]
              },
              {
                "output_type": "stream",
                "name": "stdout",
                "text": [
                  "  ultimate-upscale-for-automatic1111 ▶ https://github.com/Coyote-A/ultimate-upscale-for-automatic1111\n"
                ]
              },
              {
                "output_type": "stream",
                "name": "stdout",
                "text": [
                  "  sd-webui-controlnet ▶ https://github.com/Mikubill/sd-webui-controlnet\n"
                ]
              },
              {
                "output_type": "stream",
                "name": "stdout",
                "text": [
                  "  DWPose ▶ https://github.com/IDEA-Research/DWPose\n"
                ]
              },
              {
                "output_type": "stream",
                "name": "stdout",
                "text": [
                  "  sd-hub ▶ https://github.com/gutris1/sd-hub\n"
                ]
              },
              {
                "output_type": "stream",
                "name": "stdout",
                "text": [
                  "  sd-image-info ▶ https://github.com/gutris1/sd-image-info\n"
                ]
              },
              {
                "output_type": "stream",
                "name": "stdout",
                "text": [
                  "  sd-image-viewer ▶ https://github.com/gutris1/sd-image-viewer\n"
                ]
              },
              {
                "output_type": "stream",
                "name": "stdout",
                "text": [
                  "  sd-image-scripts ▶ https://github.com/gutris1/sd-image-scripts\n"
                ]
              },
              {
                "output_type": "stream",
                "name": "stdout",
                "text": [
                  "  Scroll-Bar ▶ https://github.com/gutris1/Scroll-Bar\n"
                ]
              },
              {
                "output_type": "stream",
                "name": "stdout",
                "text": [
                  "  timer_timer ▶ https://github.com/gutris1/timer_timer\n"
                ]
              },
              {
                "output_type": "stream",
                "name": "stdout",
                "text": [
                  "  sd-simple-dimension-preset ▶ https://github.com/gutris1/sd-simple-dimension-preset\n"
                ]
              },
              {
                "output_type": "stream",
                "name": "stdout",
                "text": [
                  "  sd-civitai-browser-plus-plus ▶ https://github.com/gutris1/sd-civitai-browser-plus-plus\n"
                ]
              }
            ]
          }
        },
        "a5068271c44f442b91adea18ff3cd6c5": {
          "model_module": "@jupyter-widgets/base",
          "model_name": "LayoutModel",
          "model_module_version": "1.2.0",
          "state": {
            "_model_module": "@jupyter-widgets/base",
            "_model_module_version": "1.2.0",
            "_model_name": "LayoutModel",
            "_view_count": null,
            "_view_module": "@jupyter-widgets/base",
            "_view_module_version": "1.2.0",
            "_view_name": "LayoutView",
            "align_content": null,
            "align_items": null,
            "align_self": null,
            "border": null,
            "bottom": null,
            "display": null,
            "flex": null,
            "flex_flow": null,
            "grid_area": null,
            "grid_auto_columns": null,
            "grid_auto_flow": null,
            "grid_auto_rows": null,
            "grid_column": null,
            "grid_gap": null,
            "grid_row": null,
            "grid_template_areas": null,
            "grid_template_columns": null,
            "grid_template_rows": null,
            "height": null,
            "justify_content": null,
            "justify_items": null,
            "left": null,
            "margin": null,
            "max_height": null,
            "max_width": null,
            "min_height": null,
            "min_width": null,
            "object_fit": null,
            "object_position": null,
            "order": null,
            "overflow": null,
            "overflow_x": null,
            "overflow_y": null,
            "padding": null,
            "right": null,
            "top": null,
            "visibility": null,
            "width": null
          }
        },
        "a882636f279e49ad97b4c72645e110e8": {
          "model_module": "@jupyter-widgets/output",
          "model_name": "OutputModel",
          "model_module_version": "1.0.0",
          "state": {
            "_dom_classes": [],
            "_model_module": "@jupyter-widgets/output",
            "_model_module_version": "1.0.0",
            "_model_name": "OutputModel",
            "_view_count": null,
            "_view_module": "@jupyter-widgets/output",
            "_view_module_version": "1.0.0",
            "_view_name": "OutputView",
            "layout": "IPY_MODEL_df6830c0b07d4c539eb05e05f2503f0d",
            "msg_id": "",
            "outputs": [
              {
                "output_type": "display_data",
                "data": {
                  "text/plain": "<IPython.core.display.HTML object>",
                  "text/html": "<span style='color:red;'><br><b>【</span> <span style='color:d;'>Done</span> <span style='color:red;'>】</span> <span></b></span>"
                },
                "metadata": {}
              }
            ]
          }
        },
        "df6830c0b07d4c539eb05e05f2503f0d": {
          "model_module": "@jupyter-widgets/base",
          "model_name": "LayoutModel",
          "model_module_version": "1.2.0",
          "state": {
            "_model_module": "@jupyter-widgets/base",
            "_model_module_version": "1.2.0",
            "_model_name": "LayoutModel",
            "_view_count": null,
            "_view_module": "@jupyter-widgets/base",
            "_view_module_version": "1.2.0",
            "_view_name": "LayoutView",
            "align_content": null,
            "align_items": null,
            "align_self": null,
            "border": null,
            "bottom": null,
            "display": null,
            "flex": null,
            "flex_flow": null,
            "grid_area": null,
            "grid_auto_columns": null,
            "grid_auto_flow": null,
            "grid_auto_rows": null,
            "grid_column": null,
            "grid_gap": null,
            "grid_row": null,
            "grid_template_areas": null,
            "grid_template_columns": null,
            "grid_template_rows": null,
            "height": null,
            "justify_content": null,
            "justify_items": null,
            "left": null,
            "margin": null,
            "max_height": null,
            "max_width": null,
            "min_height": null,
            "min_width": null,
            "object_fit": null,
            "object_position": null,
            "order": null,
            "overflow": null,
            "overflow_x": null,
            "overflow_y": null,
            "padding": null,
            "right": null,
            "top": null,
            "visibility": null,
            "width": null
          }
        }
      }
    }
  },
  "nbformat": 4,
  "nbformat_minor": 0
}