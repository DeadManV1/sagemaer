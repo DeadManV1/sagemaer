{
  "nbformat": 4,
  "nbformat_minor": 0,
  "metadata": {
    "colab": {
      "provenance": [],
      "gpuType": "T4"
    },
    "kernelspec": {
      "name": "python3",
      "display_name": "Python 3"
    },
    "language_info": {
      "name": "python"
    },
    "accelerator": "GPU"
  },
  "cells": [
    {
      "cell_type": "markdown",
      "source": [
        "<a href=\"https://github.com/gutris1/segsmaker\">\n",
        "  <img alt=\"GitHub repo\" src=\"https://img.shields.io/badge/GitHub-6e5494?style=for-the-badge&logo=github&logoColor=white\"/>\n",
        "</a>\n",
        "\n",
        "**webui list** = A1111, Forge, ComfyUI, ReForge, SwarmUI<br>\n",
        "**sd list** = 1.5 or XL<br>\n",
        "**civitai_key** = get your civitai api key from [here](https://civitai.com/user/account)<br>\n",
        "**hf_read_token** = for downloading models from your huggingface private repo (**optional**)"
      ],
      "metadata": {
        "id": "COlOWoTOMKSP"
      }
    },
    {
      "cell_type": "code",
      "execution_count": 2,
      "metadata": {
        "id": "tQqllRM-MCnT",
        "colab": {
          "base_uri": "https://localhost:8080/",
          "height": 768
        },
        "outputId": "23641123-f929-43ff-c37a-ff1ed8a2b208"
      },
      "outputs": [
        {
          "output_type": "display_data",
          "data": {
            "text/html": [
              "<img src=\"https://github.com/gutris1/segsmaker/raw/main/script/SM/loading.png\"/>"
            ],
            "text/plain": [
              "<IPython.core.display.Image object>"
            ]
          },
          "metadata": {}
        },
        {
          "output_type": "display_data",
          "data": {
            "text/plain": [
              "<IPython.core.display.HTML object>"
            ],
            "text/html": [
              "<span style='color:red;'><b>【</span> <span style='color:d;'>Installing ReForge</span> <span style='color:red;'>】</span> <span></b></span>"
            ]
          },
          "metadata": {}
        },
        {
          "output_type": "stream",
          "name": "stdout",
          "text": [
            "  ReForge ▶ https://github.com/Panchovix/stable-diffusion-webui-reForge\n",
            "\n",
            "  pull : reforge \n",
            "  from : https://github.com/gutris1/segsmaker \n",
            "  into : /content/ReForge\n",
            "\n",
            "  80e649|\u001b[38;5;35mOK\u001b[0m  |   2.6MiB/s|\u001b[38;5;208m/\u001b[0mcontent\u001b[38;5;208m/\u001b[0mReForge\u001b[38;5;208m/\u001b[0masd\u001b[38;5;208m/\u001b[0mcontrolnet.py\n",
            "  0996e1|\u001b[38;5;35mOK\u001b[0m  |   791KiB/s|\u001b[38;5;208m/\u001b[0mcontent\u001b[38;5;208m/\u001b[0mReForge\u001b[38;5;208m/\u001b[0msegsmaker.py\n",
            "  6fe4c7|\u001b[38;5;35mOK\u001b[0m  |   207MiB/s|\u001b[38;5;208m/\u001b[0mcontent\u001b[38;5;208m/\u001b[0mReForge\u001b[38;5;208m/\u001b[0mmodels\u001b[38;5;208m/\u001b[0mESRGAN\u001b[38;5;208m/\u001b[0m4x-UltraSharp.pth\n",
            "  89859f|\u001b[38;5;35mOK\u001b[0m  |   110MiB/s|\u001b[38;5;208m/\u001b[0mcontent\u001b[38;5;208m/\u001b[0mReForge\u001b[38;5;208m/\u001b[0mmodels\u001b[38;5;208m/\u001b[0mESRGAN\u001b[38;5;208m/\u001b[0m4x-AnimeSharp.pth\n",
            "  22bc15|\u001b[38;5;35mOK\u001b[0m  |   174MiB/s|\u001b[38;5;208m/\u001b[0mcontent\u001b[38;5;208m/\u001b[0mReForge\u001b[38;5;208m/\u001b[0mmodels\u001b[38;5;208m/\u001b[0mESRGAN\u001b[38;5;208m/\u001b[0m4x_NMKD-Superscale-SP_178000_G.pth\n",
            "  6f97ce|\u001b[38;5;35mOK\u001b[0m  |   144MiB/s|\u001b[38;5;208m/\u001b[0mcontent\u001b[38;5;208m/\u001b[0mReForge\u001b[38;5;208m/\u001b[0mmodels\u001b[38;5;208m/\u001b[0mESRGAN\u001b[38;5;208m/\u001b[0m8x_NMKD-Superscale_150000_G.pth\n",
            "  fea159|\u001b[38;5;35mOK\u001b[0m  |   208MiB/s|\u001b[38;5;208m/\u001b[0mcontent\u001b[38;5;208m/\u001b[0mReForge\u001b[38;5;208m/\u001b[0mmodels\u001b[38;5;208m/\u001b[0mESRGAN\u001b[38;5;208m/\u001b[0m4x_RealisticRescaler_100000_G.pth\n",
            "  e84666|\u001b[38;5;35mOK\u001b[0m  |   175MiB/s|\u001b[38;5;208m/\u001b[0mcontent\u001b[38;5;208m/\u001b[0mReForge\u001b[38;5;208m/\u001b[0mmodels\u001b[38;5;208m/\u001b[0mESRGAN\u001b[38;5;208m/\u001b[0m8x_RealESRGAN.pth\n",
            "  7dcebf|\u001b[38;5;35mOK\u001b[0m  |   104MiB/s|\u001b[38;5;208m/\u001b[0mcontent\u001b[38;5;208m/\u001b[0mReForge\u001b[38;5;208m/\u001b[0mmodels\u001b[38;5;208m/\u001b[0mESRGAN\u001b[38;5;208m/\u001b[0m4x_foolhardy_Remacri.pth\n",
            "  fdc021|\u001b[38;5;35mOK\u001b[0m  |   176MiB/s|\u001b[38;5;208m/\u001b[0mcontent\u001b[38;5;208m/\u001b[0mReForge\u001b[38;5;208m/\u001b[0mmodels\u001b[38;5;208m/\u001b[0mESRGAN\u001b[38;5;208m/\u001b[0m4x_NMKD-YandereNeoXL_200k.pth\n",
            "  daa792|\u001b[38;5;35mOK\u001b[0m  |   148MiB/s|\u001b[38;5;208m/\u001b[0mcontent\u001b[38;5;208m/\u001b[0mReForge\u001b[38;5;208m/\u001b[0mmodels\u001b[38;5;208m/\u001b[0mESRGAN\u001b[38;5;208m/\u001b[0m4x_NMKD-UltraYandere_300k.pth\n",
            "  51ffda|\u001b[38;5;35mOK\u001b[0m  |   3.4MiB/s|\u001b[38;5;208m/\u001b[0mcontent\u001b[38;5;208m/\u001b[0mReForge\u001b[38;5;208m/\u001b[0mhtml\u001b[38;5;208m/\u001b[0mcard-no-preview.png\n",
            "  f83bf2|\u001b[38;5;35mOK\u001b[0m  |    10MiB/s|\u001b[38;5;208m/\u001b[0mcontent\u001b[38;5;208m/\u001b[0mReForge\u001b[38;5;208m/\u001b[0membeddingsXL.zip\n",
            " \u001b[35m【\u001b[0m\u001b[36m#\u001b[0m\u001b[38;5;35mb66699\u001b[0m 140\u001b[38;5;135mMiB\u001b[0m\u001b[35m/\u001b[0m319\u001b[38;5;135mMiB\u001b[0m\u001b[35m(\u001b[0m43%\u001b[35m)\u001b[0m \u001b[36mCN\u001b[0m:\u001b[38;5;208m16\u001b[0m \u001b[36mDL\u001b[0m:208\u001b[38;5;135mMiB\u001b[0m\u001b[35m】\u001b[0m\n",
            "  b66699|\u001b[38;5;35mOK\u001b[0m  |   219MiB/s|\u001b[38;5;208m/\u001b[0mcontent\u001b[38;5;208m/\u001b[0mReForge\u001b[38;5;208m/\u001b[0mmodels\u001b[38;5;208m/\u001b[0mVAE\u001b[38;5;208m/\u001b[0msdxl_vae.safetensors\n"
          ]
        },
        {
          "output_type": "display_data",
          "data": {
            "text/plain": [
              "<IPython.core.display.HTML object>"
            ],
            "text/html": [
              "<span style='color:red;'><br><b>【</span> <span style='color:d;'>Installing Extensions</span> <span style='color:red;'>】</span> <span></b></span>"
            ]
          },
          "metadata": {}
        },
        {
          "output_type": "stream",
          "name": "stdout",
          "text": [
            "  3-bmab ▶ https://github.com/gutris1/sd-webui-bmab\n",
            "  4-adetailer ▶ https://github.com/Bing-su/adetailer\n",
            "  sd-webui-supermerger ▶ https://github.com/hako-mikan/sd-webui-supermerger\n",
            "  sd-webui-infinite-image-browsing ▶ https://github.com/zanllp/sd-webui-infinite-image-browsing\n",
            "  a1111-sd-webui-tagcomplete ▶ https://github.com/DominikDoom/a1111-sd-webui-tagcomplete\n",
            "  ultimate-upscale-for-automatic1111 ▶ https://github.com/Coyote-A/ultimate-upscale-for-automatic1111\n",
            "  DWPose ▶ https://github.com/IDEA-Research/DWPose\n",
            "  sd-webui-regional-prompter ▶ https://github.com/hako-mikan/sd-webui-regional-prompter\n",
            "  sd-hub ▶ https://github.com/gutris1/sd-hub\n",
            "  sd-image-info ▶ https://github.com/gutris1/sd-image-info\n",
            "  sd-image-viewer ▶ https://github.com/gutris1/sd-image-viewer\n",
            "  Scroll-Bar ▶ https://github.com/gutris1/Scroll-Bar\n",
            "  timer_timer ▶ https://github.com/gutris1/timer_timer\n",
            "  sd-simple-dimension-preset ▶ https://github.com/gutris1/sd-simple-dimension-preset\n",
            "  sd-civitai-browser-plus ▶ https://github.com/BlafKing/sd-civitai-browser-plus\n"
          ]
        },
        {
          "output_type": "display_data",
          "data": {
            "text/plain": [
              "<IPython.core.display.HTML object>"
            ],
            "text/html": [
              "<span style='color:red;'><br><b>【</span> <span style='color:d;'>Done</span> <span style='color:red;'>】</span> <span></b></span>"
            ]
          },
          "metadata": {}
        }
      ],
      "source": [
        "# @title WebUI Installer {\"display-mode\":\"form\"}\n",
        "\n",
        "ui = 'ReForge' # @param [\"A1111\", \"Forge\", \"ComfyUI\", \"ReForge\", \"SwarmUI\"]\n",
        "sd = 'XL' # @param [\"1.5\", \"XL\"]\n",
        "civitai___key = '580f18452106bedb1b4c92fb67d3b825' # @param {type:\"string\", placeholder:\"your Civitai API key\"}\n",
        "hf_read_token = '' # @param {type:\"string\", placeholder:\"your Huggingface READ token (optional)\"}\n",
        "\n",
        "!curl -sLo /content/setup.py https://github.com/gutris1/segsmaker/raw/main/script/KC/setup.py\n",
        "%run /content/setup.py --webui=\"$ui\" --sd=\"$sd\" --civitai_key=\"$civitai___key\" --hf_read_token=\"$hf_read_token\""
      ]
    },
    {
      "cell_type": "code",
      "source": [
        "''' SD Extensions / ComfyUI Custom Nodes '''\n",
        "%cd -q $Extensions\n",
        "!git clone\n",
        "\n",
        "''' VAE '''\n",
        "%cd -q $VAE\n",
        "%download\n",
        "\n",
        "''' Embeddings '''\n",
        "%cd -q $Embeddings\n",
        "%download\n",
        "\n",
        "''' Upscalers '''\n",
        "%cd -q $Upscalers\n",
        "%download\n",
        "\n",
        "''' FLUX Unet '''\n",
        "%cd -q $UNET\n",
        "%download\n",
        "\n",
        "''' FLUX Clip '''\n",
        "%cd -q $CLIP\n",
        "%download"
      ],
      "metadata": {
        "id": "9TeZZ9WrOsxS"
      },
      "execution_count": null,
      "outputs": []
    },
    {
      "cell_type": "code",
      "source": [
        "''' Checkpoint '''\n",
        "%cd -q $CKPT\n",
        "%download https://civitai.com/api/download/models/324524 autismmixSDXL_autismmixConfetti.safetensors\n",
        "#%download https://civitai.com/api/download/models/541561 blendermix_v20.safetensors\n",
        "#%download https://civitai.com/api/download/models/582944  ponyRealism_V21AlternativeVAE.safetensors\n",
        "\n",
        "''' LoRA '''\n",
        "%cd -q $LORA\n",
        "#%download https://civitai.com/models/122359/detail-tweaker-xl\n",
        "#%download https://civitai.com/models/669571/pony-add-more-details"
      ],
      "metadata": {
        "id": "CuR9tiSnPRBM",
        "colab": {
          "base_uri": "https://localhost:8080/"
        },
        "outputId": "c8d27d69-613c-4ff5-ba92-40e47c7a4fed"
      },
      "execution_count": 3,
      "outputs": [
        {
          "output_type": "stream",
          "name": "stdout",
          "text": [
            " \u001b[35m【\u001b[0m\u001b[36m#\u001b[0m\u001b[38;5;35m9b3136\u001b[0m 6.4\u001b[38;5;135mGiB\u001b[0m\u001b[35m/\u001b[0m6.4\u001b[38;5;135mGiB\u001b[0m\u001b[35m(\u001b[0m99%\u001b[35m)\u001b[0m \u001b[36mCN\u001b[0m:\u001b[38;5;208m9\u001b[0m \u001b[36mDL\u001b[0m:145\u001b[38;5;135mMiB\u001b[0m\u001b[35m】\u001b[0m\n",
            "  9b3136|\u001b[38;5;35mOK\u001b[0m  |   112MiB/s|\u001b[38;5;208m/\u001b[0mcontent\u001b[38;5;208m/\u001b[0mReForge\u001b[38;5;208m/\u001b[0mmodels\u001b[38;5;208m/\u001b[0mStable-diffusion\u001b[38;5;208m/\u001b[0mautismmixSDXL_autismmixConfetti.safetensors\n"
          ]
        }
      ]
    },
    {
      "cell_type": "code",
      "source": [
        "''' Controlnet '''\n",
        "%run $Controlnet_Widget"
      ],
      "metadata": {
        "id": "wO4OTCOWALEc"
      },
      "execution_count": null,
      "outputs": []
    },
    {
      "cell_type": "markdown",
      "source": [
        "## Launcher\n",
        "args list :\n",
        "-  **A1111** = `--xformers`\n",
        "- **Forge** = `--disable-xformers --opt-sdp-attention --cuda-stream --pin-shared-memory`\n",
        "- **ComfyUI** = `--dont-print-server --preview-method auto --use-pytorch-cross-attention`\n",
        "- **ReForge** = `--xformers --cuda-stream --pin-shared-memory`\n",
        "- **SwarmUI** = `--launch_mode none`\n",
        "<br><br>\n",
        "\n",
        "For ComfyUI, add `--skip-comfyui-check` to skip checking custom node dependencies\n",
        "\n",
        "Add **--N=ngrok_token** to start NGROK tunnel<br>\n",
        "Add **--Z=zrok_token** to start ZROK tunnel"
      ],
      "metadata": {
        "id": "BB8pCZnrQnR9"
      }
    },
    {
      "cell_type": "code",
      "source": [
        "%cd -q $WebUI\n",
        "%run segsmaker.py --xformers --cuda-stream --pin-shared-memory"
      ],
      "metadata": {
        "id": "ps7AEUdGX2iE",
        "colab": {
          "base_uri": "https://localhost:8080/"
        },
        "outputId": "a0cbdd0c-21e4-4947-8619-2b22007e17b3"
      },
      "execution_count": 4,
      "outputs": [
        {
          "output_type": "stream",
          "name": "stdout",
          "text": [
            "Python 3.10.15 (main, Oct 16 2024, 04:37:23) [Clang 18.1.8 ]\n",
            "Version: f1.3.0-v1.10.1RC-latest-1010-g9277598e\n",
            "Commit hash: 9277598ed3020f547ec9fb73b921a49bcafcf033\n",
            "Cloning assets into /content/ReForge/repositories/stable-diffusion-webui-assets...\n",
            "Cloning into '/content/ReForge/repositories/stable-diffusion-webui-assets'...\n",
            "remote: Enumerating objects: 20, done.\u001b[K\n",
            "remote: Counting objects: 100% (20/20), done.\u001b[K\n",
            "remote: Compressing objects: 100% (18/18), done.\u001b[K\n",
            "remote: Total 20 (delta 0), reused 20 (delta 0), pack-reused 0 (from 0)\u001b[K\n",
            "Receiving objects: 100% (20/20), 132.70 KiB | 4.28 MiB/s, done.\n",
            "Cloning Stable Diffusion into /content/ReForge/repositories/stable-diffusion-stability-ai...\n",
            "Cloning into '/content/ReForge/repositories/stable-diffusion-stability-ai'...\n",
            "remote: Enumerating objects: 580, done.\u001b[K\n",
            "remote: Counting objects: 100% (2/2), done.\u001b[K\n",
            "remote: Compressing objects: 100% (2/2), done.\u001b[K\n",
            "remote: Total 580 (delta 0), reused 0 (delta 0), pack-reused 578 (from 2)\u001b[K\n",
            "Receiving objects: 100% (580/580), 73.44 MiB | 45.36 MiB/s, done.\n",
            "Resolving deltas: 100% (281/281), done.\n",
            "Cloning Stable Diffusion XL into /content/ReForge/repositories/generative-models...\n",
            "Cloning into '/content/ReForge/repositories/generative-models'...\n",
            "remote: Enumerating objects: 1064, done.\u001b[K\n",
            "remote: Counting objects: 100% (477/477), done.\u001b[K\n",
            "remote: Compressing objects: 100% (124/124), done.\u001b[K\n",
            "remote: Total 1064 (delta 376), reused 353 (delta 353), pack-reused 587 (from 1)\u001b[K\n",
            "Receiving objects: 100% (1064/1064), 53.60 MiB | 42.28 MiB/s, done.\n",
            "Resolving deltas: 100% (562/562), done.\n",
            "Cloning K-diffusion into /content/ReForge/repositories/k-diffusion...\n",
            "Cloning into '/content/ReForge/repositories/k-diffusion'...\n",
            "remote: Enumerating objects: 1350, done.\u001b[K\n",
            "remote: Counting objects: 100% (1350/1350), done.\u001b[K\n",
            "remote: Compressing objects: 100% (444/444), done.\u001b[K\n",
            "remote: Total 1350 (delta 951), reused 1254 (delta 899), pack-reused 0 (from 0)\u001b[K\n",
            "Receiving objects: 100% (1350/1350), 233.36 KiB | 9.72 MiB/s, done.\n",
            "Resolving deltas: 100% (951/951), done.\n",
            "Cloning BLIP into /content/ReForge/repositories/BLIP...\n",
            "Cloning into '/content/ReForge/repositories/BLIP'...\n",
            "remote: Enumerating objects: 277, done.\u001b[K\n",
            "remote: Counting objects: 100% (183/183), done.\u001b[K\n",
            "remote: Compressing objects: 100% (46/46), done.\u001b[K\n",
            "remote: Total 277 (delta 145), reused 137 (delta 137), pack-reused 94 (from 1)\u001b[K\n",
            "Receiving objects: 100% (277/277), 7.04 MiB | 26.88 MiB/s, done.\n",
            "Resolving deltas: 100% (152/152), done.\n",
            "Installing requirements\n",
            "Collecting ultralytics!=8.3.41,!=8.3.42,!=8.3.45,!=8.3.46,>=8.3.0\n",
            "  Downloading ultralytics-8.3.76-py3-none-any.whl.metadata (35 kB)\n",
            "Collecting mediapipe<=0.10.15,>=0.10.13\n",
            "  Downloading mediapipe-0.10.15-cp310-cp310-manylinux_2_17_x86_64.manylinux2014_x86_64.whl.metadata (9.7 kB)\n",
            "Requirement already satisfied: numpy<=2.1.1,>=1.23.0 in /root/GUTRIS1/lib/python3.10/site-packages (from ultralytics!=8.3.41,!=8.3.42,!=8.3.45,!=8.3.46,>=8.3.0) (1.26.4)\n",
            "Requirement already satisfied: matplotlib>=3.3.0 in /root/GUTRIS1/lib/python3.10/site-packages (from ultralytics!=8.3.41,!=8.3.42,!=8.3.45,!=8.3.46,>=8.3.0) (3.8.3)\n",
            "Requirement already satisfied: opencv-python>=4.6.0 in /root/GUTRIS1/lib/python3.10/site-packages (from ultralytics!=8.3.41,!=8.3.42,!=8.3.45,!=8.3.46,>=8.3.0) (4.9.0.80)\n",
            "Requirement already satisfied: pillow>=7.1.2 in /root/GUTRIS1/lib/python3.10/site-packages (from ultralytics!=8.3.41,!=8.3.42,!=8.3.45,!=8.3.46,>=8.3.0) (10.4.0)\n",
            "Requirement already satisfied: pyyaml>=5.3.1 in /root/GUTRIS1/lib/python3.10/site-packages (from ultralytics!=8.3.41,!=8.3.42,!=8.3.45,!=8.3.46,>=8.3.0) (6.0.1)\n",
            "Requirement already satisfied: requests>=2.23.0 in /root/GUTRIS1/lib/python3.10/site-packages (from ultralytics!=8.3.41,!=8.3.42,!=8.3.45,!=8.3.46,>=8.3.0) (2.28.1)\n",
            "Requirement already satisfied: scipy>=1.4.1 in /root/GUTRIS1/lib/python3.10/site-packages (from ultralytics!=8.3.41,!=8.3.42,!=8.3.45,!=8.3.46,>=8.3.0) (1.12.0)\n",
            "Requirement already satisfied: torch>=1.8.0 in /root/GUTRIS1/lib/python3.10/site-packages (from ultralytics!=8.3.41,!=8.3.42,!=8.3.45,!=8.3.46,>=8.3.0) (2.5.1+cu121)\n",
            "Requirement already satisfied: torchvision>=0.9.0 in /root/GUTRIS1/lib/python3.10/site-packages (from ultralytics!=8.3.41,!=8.3.42,!=8.3.45,!=8.3.46,>=8.3.0) (0.20.1+cu121)\n",
            "Requirement already satisfied: tqdm>=4.64.0 in /root/GUTRIS1/lib/python3.10/site-packages (from ultralytics!=8.3.41,!=8.3.42,!=8.3.45,!=8.3.46,>=8.3.0) (4.66.2)\n",
            "Requirement already satisfied: psutil in /root/GUTRIS1/lib/python3.10/site-packages (from ultralytics!=8.3.41,!=8.3.42,!=8.3.45,!=8.3.46,>=8.3.0) (5.9.5)\n",
            "Requirement already satisfied: py-cpuinfo in /root/GUTRIS1/lib/python3.10/site-packages (from ultralytics!=8.3.41,!=8.3.42,!=8.3.45,!=8.3.46,>=8.3.0) (9.0.0)\n",
            "Requirement already satisfied: pandas>=1.1.4 in /root/GUTRIS1/lib/python3.10/site-packages (from ultralytics!=8.3.41,!=8.3.42,!=8.3.45,!=8.3.46,>=8.3.0) (2.2.1)\n",
            "Requirement already satisfied: seaborn>=0.11.0 in /root/GUTRIS1/lib/python3.10/site-packages (from ultralytics!=8.3.41,!=8.3.42,!=8.3.45,!=8.3.46,>=8.3.0) (0.13.2)\n",
            "Requirement already satisfied: ultralytics-thop>=2.0.0 in /root/GUTRIS1/lib/python3.10/site-packages (from ultralytics!=8.3.41,!=8.3.42,!=8.3.45,!=8.3.46,>=8.3.0) (2.0.0)\n",
            "Requirement already satisfied: absl-py in /root/GUTRIS1/lib/python3.10/site-packages (from mediapipe<=0.10.15,>=0.10.13) (2.1.0)\n",
            "Requirement already satisfied: attrs>=19.1.0 in /root/GUTRIS1/lib/python3.10/site-packages (from mediapipe<=0.10.15,>=0.10.13) (23.2.0)\n",
            "Requirement already satisfied: flatbuffers>=2.0 in /root/GUTRIS1/lib/python3.10/site-packages (from mediapipe<=0.10.15,>=0.10.13) (23.5.26)\n",
            "Requirement already satisfied: jax in /root/GUTRIS1/lib/python3.10/site-packages (from mediapipe<=0.10.15,>=0.10.13) (0.4.24)\n",
            "Requirement already satisfied: jaxlib in /root/GUTRIS1/lib/python3.10/site-packages (from mediapipe<=0.10.15,>=0.10.13) (0.4.30)\n",
            "Requirement already satisfied: opencv-contrib-python in /root/GUTRIS1/lib/python3.10/site-packages (from mediapipe<=0.10.15,>=0.10.13) (4.9.0.80)\n",
            "Collecting protobuf<5,>=4.25.3 (from mediapipe<=0.10.15,>=0.10.13)\n",
            "  Downloading protobuf-4.25.6-cp37-abi3-manylinux2014_x86_64.whl.metadata (541 bytes)\n",
            "Requirement already satisfied: sounddevice>=0.4.4 in /root/GUTRIS1/lib/python3.10/site-packages (from mediapipe<=0.10.15,>=0.10.13) (0.4.6)\n",
            "Requirement already satisfied: contourpy>=1.0.1 in /root/GUTRIS1/lib/python3.10/site-packages (from matplotlib>=3.3.0->ultralytics!=8.3.41,!=8.3.42,!=8.3.45,!=8.3.46,>=8.3.0) (1.2.0)\n",
            "Requirement already satisfied: cycler>=0.10 in /root/GUTRIS1/lib/python3.10/site-packages (from matplotlib>=3.3.0->ultralytics!=8.3.41,!=8.3.42,!=8.3.45,!=8.3.46,>=8.3.0) (0.12.1)\n",
            "Requirement already satisfied: fonttools>=4.22.0 in /root/GUTRIS1/lib/python3.10/site-packages (from matplotlib>=3.3.0->ultralytics!=8.3.41,!=8.3.42,!=8.3.45,!=8.3.46,>=8.3.0) (4.49.0)\n",
            "Requirement already satisfied: kiwisolver>=1.3.1 in /root/GUTRIS1/lib/python3.10/site-packages (from matplotlib>=3.3.0->ultralytics!=8.3.41,!=8.3.42,!=8.3.45,!=8.3.46,>=8.3.0) (1.4.5)\n",
            "Requirement already satisfied: packaging>=20.0 in /root/GUTRIS1/lib/python3.10/site-packages (from matplotlib>=3.3.0->ultralytics!=8.3.41,!=8.3.42,!=8.3.45,!=8.3.46,>=8.3.0) (23.2)\n",
            "Requirement already satisfied: pyparsing>=2.3.1 in /root/GUTRIS1/lib/python3.10/site-packages (from matplotlib>=3.3.0->ultralytics!=8.3.41,!=8.3.42,!=8.3.45,!=8.3.46,>=8.3.0) (3.1.1)\n",
            "Requirement already satisfied: python-dateutil>=2.7 in /root/GUTRIS1/lib/python3.10/site-packages (from matplotlib>=3.3.0->ultralytics!=8.3.41,!=8.3.42,!=8.3.45,!=8.3.46,>=8.3.0) (2.8.2)\n",
            "Requirement already satisfied: pytz>=2020.1 in /root/GUTRIS1/lib/python3.10/site-packages (from pandas>=1.1.4->ultralytics!=8.3.41,!=8.3.42,!=8.3.45,!=8.3.46,>=8.3.0) (2024.1)\n",
            "Requirement already satisfied: tzdata>=2022.7 in /root/GUTRIS1/lib/python3.10/site-packages (from pandas>=1.1.4->ultralytics!=8.3.41,!=8.3.42,!=8.3.45,!=8.3.46,>=8.3.0) (2024.1)\n",
            "Requirement already satisfied: charset-normalizer<3,>=2 in /root/GUTRIS1/lib/python3.10/site-packages (from requests>=2.23.0->ultralytics!=8.3.41,!=8.3.42,!=8.3.45,!=8.3.46,>=8.3.0) (2.1.1)\n",
            "Requirement already satisfied: idna<4,>=2.5 in /root/GUTRIS1/lib/python3.10/site-packages (from requests>=2.23.0->ultralytics!=8.3.41,!=8.3.42,!=8.3.45,!=8.3.46,>=8.3.0) (3.4)\n",
            "Requirement already satisfied: urllib3<1.27,>=1.21.1 in /root/GUTRIS1/lib/python3.10/site-packages (from requests>=2.23.0->ultralytics!=8.3.41,!=8.3.42,!=8.3.45,!=8.3.46,>=8.3.0) (1.26.13)\n",
            "Requirement already satisfied: certifi>=2017.4.17 in /root/GUTRIS1/lib/python3.10/site-packages (from requests>=2.23.0->ultralytics!=8.3.41,!=8.3.42,!=8.3.45,!=8.3.46,>=8.3.0) (2022.12.7)\n",
            "Requirement already satisfied: CFFI>=1.0 in /root/GUTRIS1/lib/python3.10/site-packages (from sounddevice>=0.4.4->mediapipe<=0.10.15,>=0.10.13) (1.16.0)\n",
            "Requirement already satisfied: filelock in /root/GUTRIS1/lib/python3.10/site-packages (from torch>=1.8.0->ultralytics!=8.3.41,!=8.3.42,!=8.3.45,!=8.3.46,>=8.3.0) (3.9.0)\n",
            "Requirement already satisfied: typing-extensions>=4.8.0 in /root/GUTRIS1/lib/python3.10/site-packages (from torch>=1.8.0->ultralytics!=8.3.41,!=8.3.42,!=8.3.45,!=8.3.46,>=8.3.0) (4.12.2)\n",
            "Requirement already satisfied: networkx in /root/GUTRIS1/lib/python3.10/site-packages (from torch>=1.8.0->ultralytics!=8.3.41,!=8.3.42,!=8.3.45,!=8.3.46,>=8.3.0) (3.2.1)\n",
            "Requirement already satisfied: jinja2 in /root/GUTRIS1/lib/python3.10/site-packages (from torch>=1.8.0->ultralytics!=8.3.41,!=8.3.42,!=8.3.45,!=8.3.46,>=8.3.0) (3.1.2)\n",
            "Requirement already satisfied: fsspec in /root/GUTRIS1/lib/python3.10/site-packages (from torch>=1.8.0->ultralytics!=8.3.41,!=8.3.42,!=8.3.45,!=8.3.46,>=8.3.0) (2024.2.0)\n",
            "Requirement already satisfied: nvidia-cuda-nvrtc-cu12==12.1.105 in /root/GUTRIS1/lib/python3.10/site-packages (from torch>=1.8.0->ultralytics!=8.3.41,!=8.3.42,!=8.3.45,!=8.3.46,>=8.3.0) (12.1.105)\n",
            "Requirement already satisfied: nvidia-cuda-runtime-cu12==12.1.105 in /root/GUTRIS1/lib/python3.10/site-packages (from torch>=1.8.0->ultralytics!=8.3.41,!=8.3.42,!=8.3.45,!=8.3.46,>=8.3.0) (12.1.105)\n",
            "Requirement already satisfied: nvidia-cuda-cupti-cu12==12.1.105 in /root/GUTRIS1/lib/python3.10/site-packages (from torch>=1.8.0->ultralytics!=8.3.41,!=8.3.42,!=8.3.45,!=8.3.46,>=8.3.0) (12.1.105)\n",
            "Requirement already satisfied: nvidia-cudnn-cu12==9.1.0.70 in /root/GUTRIS1/lib/python3.10/site-packages (from torch>=1.8.0->ultralytics!=8.3.41,!=8.3.42,!=8.3.45,!=8.3.46,>=8.3.0) (9.1.0.70)\n",
            "Requirement already satisfied: nvidia-cublas-cu12==12.1.3.1 in /root/GUTRIS1/lib/python3.10/site-packages (from torch>=1.8.0->ultralytics!=8.3.41,!=8.3.42,!=8.3.45,!=8.3.46,>=8.3.0) (12.1.3.1)\n",
            "Requirement already satisfied: nvidia-cufft-cu12==11.0.2.54 in /root/GUTRIS1/lib/python3.10/site-packages (from torch>=1.8.0->ultralytics!=8.3.41,!=8.3.42,!=8.3.45,!=8.3.46,>=8.3.0) (11.0.2.54)\n",
            "Requirement already satisfied: nvidia-curand-cu12==10.3.2.106 in /root/GUTRIS1/lib/python3.10/site-packages (from torch>=1.8.0->ultralytics!=8.3.41,!=8.3.42,!=8.3.45,!=8.3.46,>=8.3.0) (10.3.2.106)\n",
            "Requirement already satisfied: nvidia-cusolver-cu12==11.4.5.107 in /root/GUTRIS1/lib/python3.10/site-packages (from torch>=1.8.0->ultralytics!=8.3.41,!=8.3.42,!=8.3.45,!=8.3.46,>=8.3.0) (11.4.5.107)\n",
            "Requirement already satisfied: nvidia-cusparse-cu12==12.1.0.106 in /root/GUTRIS1/lib/python3.10/site-packages (from torch>=1.8.0->ultralytics!=8.3.41,!=8.3.42,!=8.3.45,!=8.3.46,>=8.3.0) (12.1.0.106)\n",
            "Requirement already satisfied: nvidia-nccl-cu12==2.21.5 in /root/GUTRIS1/lib/python3.10/site-packages (from torch>=1.8.0->ultralytics!=8.3.41,!=8.3.42,!=8.3.45,!=8.3.46,>=8.3.0) (2.21.5)\n",
            "Requirement already satisfied: nvidia-nvtx-cu12==12.1.105 in /root/GUTRIS1/lib/python3.10/site-packages (from torch>=1.8.0->ultralytics!=8.3.41,!=8.3.42,!=8.3.45,!=8.3.46,>=8.3.0) (12.1.105)\n",
            "Requirement already satisfied: triton==3.1.0 in /root/GUTRIS1/lib/python3.10/site-packages (from torch>=1.8.0->ultralytics!=8.3.41,!=8.3.42,!=8.3.45,!=8.3.46,>=8.3.0) (3.1.0)\n",
            "Requirement already satisfied: sympy==1.13.1 in /root/GUTRIS1/lib/python3.10/site-packages (from torch>=1.8.0->ultralytics!=8.3.41,!=8.3.42,!=8.3.45,!=8.3.46,>=8.3.0) (1.13.1)\n",
            "Requirement already satisfied: nvidia-nvjitlink-cu12 in /root/GUTRIS1/lib/python3.10/site-packages (from nvidia-cusolver-cu12==11.4.5.107->torch>=1.8.0->ultralytics!=8.3.41,!=8.3.42,!=8.3.45,!=8.3.46,>=8.3.0) (12.6.85)\n",
            "Requirement already satisfied: mpmath<1.4,>=1.1.0 in /root/GUTRIS1/lib/python3.10/site-packages (from sympy==1.13.1->torch>=1.8.0->ultralytics!=8.3.41,!=8.3.42,!=8.3.45,!=8.3.46,>=8.3.0) (1.3.0)\n",
            "Requirement already satisfied: ml-dtypes>=0.2.0 in /root/GUTRIS1/lib/python3.10/site-packages (from jax->mediapipe<=0.10.15,>=0.10.13) (0.3.2)\n",
            "Requirement already satisfied: opt-einsum in /root/GUTRIS1/lib/python3.10/site-packages (from jax->mediapipe<=0.10.15,>=0.10.13) (3.3.0)\n",
            "Requirement already satisfied: pycparser in /root/GUTRIS1/lib/python3.10/site-packages (from CFFI>=1.0->sounddevice>=0.4.4->mediapipe<=0.10.15,>=0.10.13) (2.21)\n",
            "Requirement already satisfied: six>=1.5 in /root/GUTRIS1/lib/python3.10/site-packages (from python-dateutil>=2.7->matplotlib>=3.3.0->ultralytics!=8.3.41,!=8.3.42,!=8.3.45,!=8.3.46,>=8.3.0) (1.16.0)\n",
            "Requirement already satisfied: MarkupSafe>=2.0 in /root/GUTRIS1/lib/python3.10/site-packages (from jinja2->torch>=1.8.0->ultralytics!=8.3.41,!=8.3.42,!=8.3.45,!=8.3.46,>=8.3.0) (2.1.3)\n",
            "Downloading ultralytics-8.3.76-py3-none-any.whl (915 kB)\n",
            "   ━━━━━━━━━━━━━━━━━━━━━━━━━━━━━━━━━━━━━━━━ 915.2/915.2 kB 28.2 MB/s eta 0:00:00\n",
            "Downloading mediapipe-0.10.15-cp310-cp310-manylinux_2_17_x86_64.manylinux2014_x86_64.whl (35.9 MB)\n",
            "   ━━━━━━━━━━━━━━━━━━━━━━━━━━━━━━━━━━━━━━━━ 35.9/35.9 MB 66.4 MB/s eta 0:00:00\n",
            "Downloading protobuf-4.25.6-cp37-abi3-manylinux2014_x86_64.whl (294 kB)\n",
            "Installing collected packages: protobuf, mediapipe, ultralytics\n",
            "  Attempting uninstall: protobuf\n",
            "    Found existing installation: protobuf 3.20.0\n",
            "    Uninstalling protobuf-3.20.0:\n",
            "      Successfully uninstalled protobuf-3.20.0\n",
            "  Attempting uninstall: mediapipe\n",
            "    Found existing installation: mediapipe 0.10.11\n",
            "    Uninstalling mediapipe-0.10.11:\n",
            "      Successfully uninstalled mediapipe-0.10.11\n",
            "  Attempting uninstall: ultralytics\n",
            "    Found existing installation: ultralytics 8.2.35\n",
            "    Uninstalling ultralytics-8.2.35:\n",
            "      Successfully uninstalled ultralytics-8.2.35\n",
            "Successfully installed mediapipe-0.10.15 protobuf-4.25.6 ultralytics-8.3.76\n",
            "Installing None\n",
            "Installed version of diffusers (0.28.2) does not satisfy the requirement (==0.31.0).\n",
            "Installing diffusers==0.31.0\n",
            "Launching Web UI with arguments: --xformers --cuda-stream --pin-shared-memory --enable-insecure-extension-access --disable-console-progressbars --theme dark --share\n",
            "Total VRAM 15095 MB, total RAM 12979 MB\n",
            "xformers version: 0.0.29.post1\n",
            "Set vram state to: NORMAL_VRAM\n",
            "Always pin shared GPU memory\n",
            "Device: cuda:0 Tesla T4 : native\n",
            "VAE dtype: torch.float32\n",
            "CUDA Stream Activated:  True\n",
            "Using xformers attention\n",
            "ControlNet preprocessor location: /content/ReForge/models/ControlNetPreprocessor\n",
            "Creating new Ultralytics Settings v0.0.6 file ✅ \n",
            "View Ultralytics Settings with 'yolo settings' or at '/root/.config/Ultralytics/settings.json'\n",
            "Update Settings with 'yolo settings key=value', i.e. 'yolo settings runs_dir=path/to/dir'. For help see https://docs.ultralytics.com/quickstart/#ultralytics-settings.\n",
            "face_yolov8s.pt:   0% 0.00/22.5M [00:00<?, ?B/s]\n",
            "face_yolov8n.pt:   0% 0.00/6.23M [00:00<?, ?B/s]\u001b[A\n",
            "\n",
            "person_yolov8n-seg.pt:   0% 0.00/6.78M [00:00<?, ?B/s]\u001b[A\u001b[A\n",
            "\n",
            "\n",
            "yolov8x-worldv2.pt:   0% 0.00/146M [00:00<?, ?B/s]\u001b[A\u001b[A\u001b[A\n",
            "\n",
            "\n",
            "\n",
            "hand_yolov8n.pt:   0% 0.00/6.24M [00:00<?, ?B/s]\u001b[A\u001b[A\u001b[A\u001b[A\n",
            "\n",
            "\n",
            "\n",
            "\n",
            "face_yolov8n.pt: 100% 6.23M/6.23M [00:00<00:00, 56.7MB/s]\n",
            "person_yolov8n-seg.pt: 100% 6.78M/6.78M [00:00<00:00, 64.3MB/s]\n",
            "hand_yolov8n.pt: 100% 6.24M/6.24M [00:00<00:00, 59.4MB/s]\n",
            "\n",
            "\n",
            "\n",
            "\n",
            "\n",
            "person_yolov8s-seg.pt: 100% 23.9M/23.9M [00:00<00:00, 158MB/s]\n",
            "\n",
            "\n",
            "\n",
            "face_yolov8s.pt: 100% 22.5M/22.5M [00:00<00:00, 62.9MB/s]\n",
            "\n",
            "\n",
            "\n",
            "yolov8x-worldv2.pt:  14% 21.0M/146M [00:00<00:02, 42.4MB/s]\u001b[A\u001b[A\u001b[A\n",
            "\n",
            "\n",
            "yolov8x-worldv2.pt:  21% 31.5M/146M [00:00<00:02, 42.5MB/s]\u001b[A\u001b[A\u001b[A\n",
            "\n",
            "\n",
            "yolov8x-worldv2.pt:  29% 41.9M/146M [00:00<00:02, 42.3MB/s]\u001b[A\u001b[A\u001b[A\n",
            "\n",
            "\n",
            "yolov8x-worldv2.pt:  36% 52.4M/146M [00:01<00:02, 42.7MB/s]\u001b[A\u001b[A\u001b[A\n",
            "\n",
            "\n",
            "yolov8x-worldv2.pt:  43% 62.9M/146M [00:01<00:01, 42.8MB/s]\u001b[A\u001b[A\u001b[A\n",
            "\n",
            "\n",
            "yolov8x-worldv2.pt:  50% 73.4M/146M [00:01<00:01, 42.9MB/s]\u001b[A\u001b[A\u001b[A\n",
            "\n",
            "\n",
            "yolov8x-worldv2.pt:  57% 83.9M/146M [00:01<00:01, 42.8MB/s]\u001b[A\u001b[A\u001b[A\n",
            "\n",
            "\n",
            "yolov8x-worldv2.pt:  64% 94.4M/146M [00:02<00:01, 42.9MB/s]\u001b[A\u001b[A\u001b[A\n",
            "\n",
            "\n",
            "yolov8x-worldv2.pt:  72% 105M/146M [00:02<00:00, 42.8MB/s] \u001b[A\u001b[A\u001b[A\n",
            "\n",
            "\n",
            "yolov8x-worldv2.pt:  79% 115M/146M [00:02<00:00, 42.7MB/s]\u001b[A\u001b[A\u001b[A\n",
            "\n",
            "\n",
            "yolov8x-worldv2.pt:  86% 126M/146M [00:02<00:00, 42.7MB/s]\u001b[A\u001b[A\u001b[A\n",
            "\n",
            "\n",
            "yolov8x-worldv2.pt:  93% 136M/146M [00:03<00:00, 42.6MB/s]\u001b[A\u001b[A\u001b[A\n",
            "\n",
            "\n",
            "yolov8x-worldv2.pt: 100% 146M/146M [00:03<00:00, 42.6MB/s]\n",
            "\u001b[1m[\u001b[0m-\u001b[1m]\u001b[0m ADetailer initialized. version: \u001b[1;36m24.11\u001b[0m.\u001b[1;36m1\u001b[0m, num models: \u001b[1;36m10\u001b[0m\n",
            "Tag Autocomplete: Creating frequency database\n",
            "Tag Autocomplete: Database successfully created\n",
            "Tag Autocomplete: Could not locate model-keyword extension, Lora trigger word completion will be limited to those added through the extra networks menu.\n",
            "\u001b[96mCivitAI Browser+\u001b[0m: Aria2 RPC started\n",
            "\u001b[38;5;208m▶\u001b[0m SD-Hub: \u001b[38;5;39mv7.0.0\u001b[0m\n",
            "\u001b[38;5;208m▶\u001b[0m SD Image Info\n",
            "Forge: False, reForge: True\n",
            "Calculating sha256 for /content/ReForge/models/Stable-diffusion/autismmixSDXL_autismmixConfetti.safetensors: ac006fdd7e20693b6ed84c56f3432890f233fc003ce9853dd8f5800565bd0e5b\n",
            "Loading weights [ac006fdd7e] from /content/ReForge/models/Stable-diffusion/autismmixSDXL_autismmixConfetti.safetensors\n",
            "model_type EPS\n",
            "UNet ADM Dimension 2816\n",
            "Using xformers attention in VAE\n",
            "Working with z of shape (1, 4, 32, 32) = 4096 dimensions.\n",
            "Using xformers attention in VAE\n",
            "extra {'cond_stage_model.clip_l.text_projection', 'cond_stage_model.clip_l.logit_scale'}\n",
            "left over keys: dict_keys(['cond_stage_model.clip_l.transformer.text_model.embeddings.position_ids'])\n",
            "loaded straight to GPU\n",
            "To load target model SDXL\n",
            "Begin to load 1 model\n",
            "[Memory Management] Current Free GPU Memory (MB) =  9966.3603515625\n",
            "[Memory Management] Model Memory (MB) =  0.03814697265625\n",
            "[Memory Management] Minimal Inference Memory (MB) =  1024.0\n",
            "[Memory Management] Estimated Remaining GPU Memory (MB) =  8942.322204589844\n",
            "Moving model(s) has taken 0.04 seconds\n",
            "Calculating sha256 for /content/ReForge/embeddings/ImgFixerPre0.3.safetensors: 1cad27ea6d0becb55fc6a7280a24a1d575dda0e63d69fd18214b781d8d6e19e8\n",
            "Calculating sha256 for /content/ReForge/embeddings/SimplePositiveXLv2.safetensors: e6c9ac80ac6f44fe54f08203ba754069fd54ab99583b65f567cbbe4084ea9b48\n",
            "Calculating sha256 for /content/ReForge/embeddings/FastNegative.safetensors: 5fad4540ba18867cbb3f5ac40f06d67527f9250f83eecd9c82c414beef83d068\n",
            "Calculating sha256 for /content/ReForge/embeddings/AissistXLv2.safetensors: 8c7d9eef02fd28b6ea2afbf4aa20930a18abd834cdb8314b723b3f6f8216fdd9\n",
            "To load target model SDXLClipModel\n",
            "Begin to load 1 model\n",
            "[Memory Management] Current Free GPU Memory (MB) =  9965.3779296875\n",
            "[Memory Management] Model Memory (MB) =  2144.3535232543945\n",
            "[Memory Management] Minimal Inference Memory (MB) =  1024.0\n",
            "[Memory Management] Estimated Remaining GPU Memory (MB) =  6797.0244064331055\n",
            "Moving model(s) has taken 0.54 seconds\n",
            "Model loaded in 75.2s (calculate hash: 38.2s, load weights from disk: 1.6s, forge load real models: 33.4s, load VAE: 0.1s, calculate empty prompt: 1.6s).\n",
            "Init / preset error.\n",
            "2025-02-18 16:10:08,310 - ControlNet - \u001b[0;32mINFO\u001b[0m - ControlNet UI callback registered.\n",
            "[ERROR]: Config states /content/ReForge/config_states/civitai_subfolders.json, \"created_at\" does not exist\n",
            "Running on local URL:  http://127.0.0.1:7860\n",
            "Running on public URL: https://c8c3bf6f0fe58c3bcb.gradio.live\n",
            "\n",
            "This share link expires in 72 hours. For free permanent hosting and GPU upgrades, run `gradio deploy` from Terminal to deploy to Spaces (https://huggingface.co/spaces)\n",
            "Startup time: 174.6s (prepare environment: 71.8s, import torch: 8.1s, import gradio: 2.2s, setup paths: 1.5s, initialize shared: 0.2s, other imports: 0.7s, load scripts: 11.2s, create ui: 77.7s, gradio launch: 0.9s, app_started_callback: 0.2s).\n",
            "\n",
            "\u001b[38;5;208m▶\u001b[0m Pinggy \u001b[38;5;208m:\u001b[0m https://rnspy-35-233-183-230.a.free.pinggy.link\n",
            "\n",
            "\u001b[38;5;208m▶\u001b[0m Cloudflared \u001b[38;5;208m:\u001b[0m http://riders-cape-commented-suse.trycloudflare.com\n",
            "\n",
            "Error parsing \"RP Options: \"\n",
            "Error parsing \"Hires prompt: \"\n",
            "Error parsing \"Hires negative prompt: \"\n",
            "Regional Prompter Active, Pos tokens : [91, 80], Neg tokens : [79]\n",
            "activating extra network lora with arguments [<modules.extra_networks.ExtraNetworkParams object at 0x7e82b466e830>, <modules.extra_networks.ExtraNetworkParams object at 0x7e82b466c160>]: AttributeError\n",
            "Traceback (most recent call last):\n",
            "  File \"/content/ReForge/extensions-builtin/Lora/networks.py\", line 77, in load_networks\n",
            "    net = load_network(name, network_on_disk)\n",
            "  File \"/content/ReForge/extensions-builtin/Lora/networks.py\", line 42, in load_network\n",
            "    net.mtime = os.path.getmtime(network_on_disk.filename)\n",
            "AttributeError: 'NoneType' object has no attribute 'filename'\n",
            "\n",
            "During handling of the above exception, another exception occurred:\n",
            "\n",
            "Traceback (most recent call last):\n",
            "  File \"/content/ReForge/modules/extra_networks.py\", line 135, in activate\n",
            "    extra_network.activate(p, extra_network_args)\n",
            "  File \"/content/ReForge/extensions-builtin/Lora/extra_networks_lora.py\", line 45, in activate\n",
            "    networks.load_networks(names, te_multipliers, unet_multipliers, dyn_dims)\n",
            "  File \"/content/ReForge/extensions-builtin/Lora/networks.py\", line 79, in load_networks\n",
            "    errors.display(e, f\"loading network {network_on_disk.filename}\")\n",
            "AttributeError: 'NoneType' object has no attribute 'filename'\n",
            "\n",
            "activating extra network lora with arguments [<modules.extra_networks.ExtraNetworkParams object at 0x7e82b466e9e0>, <modules.extra_networks.ExtraNetworkParams object at 0x7e82b466dc30>]: AttributeError\n",
            "Traceback (most recent call last):\n",
            "  File \"/content/ReForge/extensions-builtin/Lora/networks.py\", line 77, in load_networks\n",
            "    net = load_network(name, network_on_disk)\n",
            "  File \"/content/ReForge/extensions-builtin/Lora/networks.py\", line 42, in load_network\n",
            "    net.mtime = os.path.getmtime(network_on_disk.filename)\n",
            "AttributeError: 'NoneType' object has no attribute 'filename'\n",
            "\n",
            "During handling of the above exception, another exception occurred:\n",
            "\n",
            "Traceback (most recent call last):\n",
            "  File \"/content/ReForge/modules/extra_networks.py\", line 135, in activate\n",
            "    extra_network.activate(p, extra_network_args)\n",
            "  File \"/content/ReForge/extensions-builtin/Lora/extra_networks_lora.py\", line 45, in activate\n",
            "    networks.load_networks(names, te_multipliers, unet_multipliers, dyn_dims)\n",
            "  File \"/content/ReForge/extensions-builtin/Lora/networks.py\", line 79, in load_networks\n",
            "    errors.display(e, f\"loading network {network_on_disk.filename}\")\n",
            "AttributeError: 'NoneType' object has no attribute 'filename'\n",
            "\n",
            "activating extra network lora with arguments [<modules.extra_networks.ExtraNetworkParams object at 0x7e82b466e830>, <modules.extra_networks.ExtraNetworkParams object at 0x7e82b466c160>]: AttributeError\n",
            "Traceback (most recent call last):\n",
            "  File \"/content/ReForge/extensions-builtin/Lora/networks.py\", line 77, in load_networks\n",
            "    net = load_network(name, network_on_disk)\n",
            "  File \"/content/ReForge/extensions-builtin/Lora/networks.py\", line 42, in load_network\n",
            "    net.mtime = os.path.getmtime(network_on_disk.filename)\n",
            "AttributeError: 'NoneType' object has no attribute 'filename'\n",
            "\n",
            "During handling of the above exception, another exception occurred:\n",
            "\n",
            "Traceback (most recent call last):\n",
            "  File \"/content/ReForge/modules/extra_networks.py\", line 135, in activate\n",
            "    extra_network.activate(p, extra_network_args)\n",
            "  File \"/content/ReForge/extensions-builtin/Lora/extra_networks_lora.py\", line 45, in activate\n",
            "    networks.load_networks(names, te_multipliers, unet_multipliers, dyn_dims)\n",
            "  File \"/content/ReForge/extensions-builtin/Lora/networks.py\", line 79, in load_networks\n",
            "    errors.display(e, f\"loading network {network_on_disk.filename}\")\n",
            "AttributeError: 'NoneType' object has no attribute 'filename'\n",
            "\n",
            "100% 30/30 [00:11<00:00,  2.64it/s]\n",
            "To load target model AutoencoderKL\n",
            "Begin to load 1 model\n",
            "[Memory Management] Current Free GPU Memory (MB) =  8160.34228515625\n",
            "[Memory Management] Model Memory (MB) =  319.11416244506836\n",
            "[Memory Management] Minimal Inference Memory (MB) =  1024.0\n",
            "[Memory Management] Estimated Remaining GPU Memory (MB) =  6817.228122711182\n",
            "Moving model(s) has taken 0.11 seconds\n",
            "Cleanup minimal inference memory.\n",
            "\n",
            "Downloading: \"https://github.com/xinntao/Real-ESRGAN/releases/download/v0.2.2.4/RealESRGAN_x4plus_anime_6B.pth\" to /content/ReForge/models/RealESRGAN/RealESRGAN_x4plus_anime_6B.pth\n",
            "RealESRGAN_x4plus_anime_6B.pth: 100% 17.9M/17.9M [00:00<00:00, 82.8MB/s]\n",
            "tiled upscale: 100% 12/12 [00:01<00:00,  7.57it/s]\n",
            "Memory cleanup has taken 5.79 seconds\n",
            "activating extra network lora with arguments [<modules.extra_networks.ExtraNetworkParams object at 0x7e82b466e9e0>, <modules.extra_networks.ExtraNetworkParams object at 0x7e82b466dc30>]: AttributeError\n",
            "Traceback (most recent call last):\n",
            "  File \"/content/ReForge/extensions-builtin/Lora/networks.py\", line 77, in load_networks\n",
            "    net = load_network(name, network_on_disk)\n",
            "  File \"/content/ReForge/extensions-builtin/Lora/networks.py\", line 42, in load_network\n",
            "    net.mtime = os.path.getmtime(network_on_disk.filename)\n",
            "AttributeError: 'NoneType' object has no attribute 'filename'\n",
            "\n",
            "During handling of the above exception, another exception occurred:\n",
            "\n",
            "Traceback (most recent call last):\n",
            "  File \"/content/ReForge/modules/extra_networks.py\", line 135, in activate\n",
            "    extra_network.activate(p, extra_network_args)\n",
            "  File \"/content/ReForge/extensions-builtin/Lora/extra_networks_lora.py\", line 45, in activate\n",
            "    networks.load_networks(names, te_multipliers, unet_multipliers, dyn_dims)\n",
            "  File \"/content/ReForge/extensions-builtin/Lora/networks.py\", line 79, in load_networks\n",
            "    errors.display(e, f\"loading network {network_on_disk.filename}\")\n",
            "AttributeError: 'NoneType' object has no attribute 'filename'\n",
            "\n",
            "To load target model SDXL\n",
            "Begin to load 1 model\n",
            "[Memory Management] Current Free GPU Memory (MB) =  14573.80908203125\n",
            "[Memory Management] Model Memory (MB) =  4897.086494445801\n",
            "[Memory Management] Minimal Inference Memory (MB) =  1024.0\n",
            "[Memory Management] Estimated Remaining GPU Memory (MB) =  8652.72258758545\n",
            "Moving model(s) has taken 1.55 seconds\n",
            "100% 30/30 [00:42<00:00,  1.40s/it]\n",
            "Memory cleanup has taken 1.82 seconds\n",
            "Interrupted with signal 2 in <frame at 0x7e827f1d34c0, file '/content/ReForge/modules_forge/main_thread.py', line 32, code loop>\n",
            "\n",
            "Cloudflared, Pinggy Died.\n"
          ]
        }
      ]
    },
    {
      "cell_type": "code",
      "source": [
        "import shutil\n",
        "\n",
        "# Caminho da pasta com as imagens\n",
        "pasta_com_imagens = \"/content/ReForge/outputs\"\n",
        "\n",
        "# Caminho do arquivo zip\n",
        "arquivo_zip = \"/content/colab.zip\"\n",
        "\n",
        "# Compactando a pasta\n",
        "shutil.make_archive(arquivo_zip.replace('.zip', ''), 'zip', pasta_com_imagens)\n"
      ],
      "metadata": {
        "colab": {
          "base_uri": "https://localhost:8080/",
          "height": 35
        },
        "id": "k5qcevIAy5aV",
        "outputId": "1df84888-0e8d-456b-fdb8-7f16d223dea1"
      },
      "execution_count": 6,
      "outputs": [
        {
          "output_type": "execute_result",
          "data": {
            "text/plain": [
              "'/content/colab.zip'"
            ],
            "application/vnd.google.colaboratory.intrinsic+json": {
              "type": "string"
            }
          },
          "metadata": {},
          "execution_count": 6
        }
      ]
    },
    {
      "cell_type": "code",
      "source": [
        "import shutil\n",
        "import os\n",
        "\n",
        "# Caminho da pasta LoRA no Google Drive\n",
        "pasta_lora_drive = \"drive/MyDrive/LORA_backup\"\n",
        "\n",
        "# Caminho da pasta temporária onde o LoRA normalmente fica\n",
        "pasta_lora_temp = \"/content/ReForge/models\"\n",
        "\n",
        "# Restaurar a pasta para /tmp/\n",
        "if os.path.exists(pasta_lora_drive):\n",
        "    shutil.copytree(pasta_lora_drive, pasta_lora_temp, dirs_exist_ok=True)\n",
        "    print(\"Pasta do LoRA restaurada para /tmp/ com sucesso!\")\n",
        "else:\n",
        "    print(\"Nenhum backup da pasta do LoRA encontrado no Google Drive!\")\n"
      ],
      "metadata": {
        "colab": {
          "base_uri": "https://localhost:8080/"
        },
        "id": "d0N4brg92q3d",
        "outputId": "2b6e8b22-a60f-4ddf-ef35-f5a7b0eec122"
      },
      "execution_count": 15,
      "outputs": [
        {
          "output_type": "stream",
          "name": "stdout",
          "text": [
            "Nenhum backup da pasta do LoRA encontrado no Google Drive!\n"
          ]
        }
      ]
    },
    {
      "cell_type": "code",
      "source": [
        "from google.colab import drive\n",
        "import shutil\n",
        "import os\n",
        "\n",
        "# Montar o Google Drive\n",
        "drive.mount('/content/drive')\n",
        "\n",
        "# Caminho da pasta LoRA no diretório temporário\n",
        "pasta_lora_temp = \"/content/ReForge/models/Lora\"\n",
        "\n",
        "# Caminho para onde vamos salvar no Google Drive\n",
        "pasta_lora_drive = \"/content/drive/MyDrive/LORA_backup\"\n",
        "\n",
        "# Criar a pasta no Google Drive, caso não exista\n",
        "os.makedirs(pasta_lora_drive, exist_ok=True)\n",
        "\n",
        "# Copiar a pasta do LoRA para o Google Drive\n",
        "if os.path.exists(pasta_lora_temp):\n",
        "    shutil.copytree(pasta_lora_temp, pasta_lora_drive, dirs_exist_ok=True)\n",
        "    print(\"Pasta do LoRA salva no Google Drive com sucesso!\")\n",
        "else:\n",
        "    print(\"A pasta do LoRA não foi encontrada!\")"
      ],
      "metadata": {
        "id": "sIkki2xf343O",
        "outputId": "baa2fda2-a709-41c6-8502-c58deeb27edc",
        "colab": {
          "base_uri": "https://localhost:8080/"
        }
      },
      "execution_count": 14,
      "outputs": [
        {
          "output_type": "stream",
          "name": "stdout",
          "text": [
            "Drive already mounted at /content/drive; to attempt to forcibly remount, call drive.mount(\"/content/drive\", force_remount=True).\n",
            "Pasta do LoRA salva no Google Drive com sucesso!\n"
          ]
        }
      ]
    }
  ]
}